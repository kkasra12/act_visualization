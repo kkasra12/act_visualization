{
 "cells": [
  {
   "cell_type": "markdown",
   "metadata": {},
   "source": [
    "# Read the data"
   ]
  },
  {
   "cell_type": "code",
   "execution_count": 2,
   "metadata": {},
   "outputs": [],
   "source": [
    "from nltk import word_tokenize, sent_tokenize\n",
    "from nltk.corpus import stopwords\n",
    "import seaborn as sns\n",
    "import PyPDF2\n"
   ]
  },
  {
   "cell_type": "code",
   "execution_count": 5,
   "metadata": {},
   "outputs": [
    {
     "name": "stdout",
     "output_type": "stream",
     "text": [
      "EN   EN \n",
      " \n",
      " \n",
      " EUROPEAN  \n",
      "COMMISSION   \n",
      "Brussels, 21.4.2021  \n",
      "COM(2021) 206 final  \n",
      "2021/0106 (COD)  \n",
      " \n",
      "Proposal for a  \n",
      "REGULATION OF THE EUROPEAN PARLIAMENT AND OF THE COUNCIL  \n",
      "LAYING DOWN HARMONISED RULES ON ARTIFICIAL INTELLIGENCE \n",
      "(ARTIFICIAL INTELLIGENCE ACT) AND AMENDING CERTAIN UNION \n",
      "LEGISLATIVE ACTS  \n",
      "{SEC(2021)  167 final}  - {SWD(2021)  84 final}  - {SWD(2021)  85 final}   \n"
     ]
    }
   ],
   "source": [
    "pages = []\n",
    "with open('ai-act-01.pdf', 'rb') as pdf_file:\n",
    "    read_pdf = PyPDF2.PdfReader(pdf_file)\n",
    "    for page in read_pdf.pages:\n",
    "        pages.append(page.extract_text())\n",
    "\n",
    "print(pages[0])"
   ]
  },
  {
   "cell_type": "code",
   "execution_count": 6,
   "metadata": {},
   "outputs": [
    {
     "name": "stdout",
     "output_type": "stream",
     "text": [
      "EN 1  EN EXPLANATORY MEMORANDUM  \n",
      "1. CONTEXT  OF THE  PROPOSAL  \n",
      "1.1. Reasons for and objectives of the proposal  \n",
      "This explanatory memorandum accompanies the proposal for a Regulation laying down \n",
      "harmonised rules on artificial intelligence (Artificial Intelligence Act). Artificial Intelligence \n",
      "(AI) is a fast evolving family of technologies that can bring a wide array of economic and \n",
      "societal benefits across the entire s pectrum of industries and social activities. By improving \n",
      "prediction, optimising operations and resource allocation, and personalising service delivery, \n",
      "the use of artificial intelligence can support socially and environmentally beneficial outcomes \n",
      "and pro vide key competitive advantages to companies and the European economy. Such \n",
      "action is especially needed in high -impact sectors, including climate change, environment and \n",
      "health, the public sector, finance, mobility, home affairs and agriculture. However, t he same \n",
      "elements and techniques that power the socio -economic benefits of AI can also bring about \n",
      "new risks or negative consequences for individuals or the society. In light of the speed of \n",
      "technological change and possible challenges, the EU is committed to strive for a balanced \n",
      "approach.  It is in the Union interest to preserve the EU’s technological leadership and to \n",
      "ensure that Europeans can benefit from new technologies developed and functioning \n",
      "according to Union values, fundamental rights and principl es. \n",
      "This proposal delivers on the political commitment by President von der Leyen, who \n",
      "announced in her political guidelines for the 2019 -2024 Commission “A Union that strives for \n",
      "more”1, that the Commission would put forward legislation for a coordinated European \n",
      "approach on the human and ethical implications of AI. Following on that announcement, on \n",
      "19 February 2020 the Commission published the White Paper on AI - A European approach \n",
      "to excellence and trust2. The White Paper sets out policy options on how  to achieve the twin \n",
      "objective of promoting the uptake of AI and of addressing the risks associated with certain \n",
      "uses of such technology. This proposal aims to implement the second objective for the \n",
      "development of an ecosystem of trust by proposing a legal  framework for trustworthy AI. The \n",
      "proposal is based on EU values and fundamental rights and aims to give people and other \n",
      "users the confidence to embrace AI -based solutions, while encouraging businesses to develop \n",
      "them. AI should be a tool for people and be a force for good in society with the ultimate aim \n",
      "of increasing human well -being. Rules for AI available in the Union market or otherwise \n",
      "affecting people in the Union should therefore be human centric, so that people can trust that \n",
      "the technology is us ed in a way that is safe and compliant with the law, including the respect \n",
      "of fundamental rights. Following the publication of the White Paper, the Commission \n",
      "launched a broad stakeholder consultation,  which was met with a great interest by a large \n",
      "number of stakeholders who were largely supportive of regulatory intervention to address the \n",
      "challenges and concerns raised by the increasing use of AI.  \n",
      "The proposal also responds to explicit requests from the European Parliament (EP) and the \n",
      "European  Council, w hich have repeatedly expressed calls for legislative action to ensure a \n",
      "well-functioning internal market for artificial intelligence systems (‘AI systems’) where both \n",
      "benefits and risks of AI are adequately addressed at Union level.  It supports the objecti ve of \n",
      "the Union being a global leader in the development of secure, trustworthy and ethical artificial \n",
      "                                                 \n",
      "1 https://ec.europa.eu/commission/sites/beta -political/files/political -guidelines -next-commission_en.pdf  \n",
      "2 European Commission, White Paper on Artificial Intelligence - A European approach to excellence and \n",
      "trust, COM(2020) 65 final, 2020.  \n"
     ]
    }
   ],
   "source": [
    "print(pages[1])"
   ]
  }
 ],
 "metadata": {
  "kernelspec": {
   "display_name": "py310-nltk",
   "language": "python",
   "name": "python3"
  },
  "language_info": {
   "codemirror_mode": {
    "name": "ipython",
    "version": 3
   },
   "file_extension": ".py",
   "mimetype": "text/x-python",
   "name": "python",
   "nbconvert_exporter": "python",
   "pygments_lexer": "ipython3",
   "version": "3.10.12"
  }
 },
 "nbformat": 4,
 "nbformat_minor": 2
}
